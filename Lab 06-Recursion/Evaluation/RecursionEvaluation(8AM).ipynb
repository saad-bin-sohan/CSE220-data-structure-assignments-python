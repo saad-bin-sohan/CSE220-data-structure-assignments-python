{
  "nbformat": 4,
  "nbformat_minor": 0,
  "metadata": {
    "colab": {
      "provenance": []
    },
    "kernelspec": {
      "name": "python3",
      "display_name": "Python 3"
    },
    "language_info": {
      "name": "python"
    }
  },
  "cells": [
    {
      "cell_type": "markdown",
      "source": [
        "# Task 1\n",
        "\n",
        "### Write a function, isPrime(n), which takes a positive integer n as input. If n is a prime number then the function returns True, otherwise the function returns False. You can write more functions for your convenience. Use at least one recursion.\n",
        "\n",
        "### Do not import anything. Do not use any loops. Do not use any lists. Do not use any dictinoaries. Do not use any builtin functions. Do not edit the driver code. Do not use any variable from the driver code in your code.\n",
        "\n",
        "### Make a copy of this Python notebook. Write your code in the solver code secton below. Run all cells using Ctrl+F9. Try to get \"Accepted\" in the output of the driver code."
      ],
      "metadata": {
        "id": "tnPO60SkHj1o"
      }
    },
    {
      "cell_type": "markdown",
      "source": [
        "# Solver code"
      ],
      "metadata": {
        "id": "SmlObCqDI_vx"
      }
    },
    {
      "cell_type": "code",
      "source": [
        "def isPrime(n):\n",
        "    # Write your code here\n",
        "    return True"
      ],
      "metadata": {
        "id": "f9VIRbGLHvnC"
      },
      "execution_count": null,
      "outputs": []
    },
    {
      "cell_type": "markdown",
      "source": [
        "# Driver Code"
      ],
      "metadata": {
        "id": "-iiYp6EpI6a5"
      }
    },
    {
      "cell_type": "code",
      "source": [
        "import sys\n",
        "sys.setrecursionlimit(99999)\n",
        "primeFlag = [True] * 9999\n",
        "primeFlag[1] = False\n",
        "for itr in range(2, 9999):\n",
        "    if primeFlag[itr] == True:\n",
        "        for jtr in range(itr + itr, 9999, itr):\n",
        "           primeFlag[jtr] = False\n",
        "flag = 0\n",
        "for itr in range(1, 9999):\n",
        "    if primeFlag[itr] != isPrime(itr):\n",
        "        print('Your solution is wrong for n =', itr)\n",
        "        flag = 1\n",
        "        break\n",
        "if flag == 0:\n",
        "    print('Accepted')"
      ],
      "metadata": {
        "colab": {
          "base_uri": "https://localhost:8080/"
        },
        "id": "B0NhG0dSIraB",
        "outputId": "fb7d6594-9e76-4267-e960-9a871d864bf5"
      },
      "execution_count": null,
      "outputs": [
        {
          "output_type": "stream",
          "name": "stdout",
          "text": [
            "Your solution is wrong for n = 1\n"
          ]
        }
      ]
    }
  ]
}