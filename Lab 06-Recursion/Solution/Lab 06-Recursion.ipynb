{
  "cells": [
    {
      "cell_type": "code",
      "execution_count": null,
      "metadata": {
        "colab": {
          "base_uri": "https://localhost:8080/"
        },
        "id": "nMrefJijp4Uy",
        "outputId": "78cbe8e0-2093-4a9e-be50-54644bafae12"
      },
      "outputs": [
        {
          "name": "stdout",
          "output_type": "stream",
          "text": [
            "120\n"
          ]
        }
      ],
      "source": [
        "#task 1(a)\n",
        "\n",
        "def factorial(n):\n",
        "\n",
        "  if (n == 1) or ( n == 0) :\n",
        "\n",
        "    return 1\n",
        "\n",
        "  else:\n",
        "\n",
        "    return n * factorial(n-1)\n",
        "\n",
        "function_call = factorial(5)\n",
        "\n",
        "print(function_call)"
      ]
    },
    {
      "cell_type": "code",
      "execution_count": null,
      "metadata": {
        "colab": {
          "base_uri": "https://localhost:8080/"
        },
        "id": "7sQDTqissbXh",
        "outputId": "9f1d4847-1d16-4359-d0f0-a4e8504b82bc"
      },
      "outputs": [
        {
          "name": "stdout",
          "output_type": "stream",
          "text": [
            "13\n"
          ]
        }
      ],
      "source": [
        "#task 1(b)\n",
        "\n",
        "def fibonacci(n):\n",
        "\n",
        "  if (n == 0) or (n == 1):\n",
        "    return n\n",
        "\n",
        "  else:\n",
        "    return fibonacci(n-1) + fibonacci(n-2)\n",
        "\n",
        "function_call = fibonacci(7)\n",
        "\n",
        "print(function_call)"
      ]
    },
    {
      "cell_type": "code",
      "execution_count": null,
      "metadata": {
        "colab": {
          "base_uri": "https://localhost:8080/"
        },
        "id": "hoOEH4DOxmWR",
        "outputId": "e1a475c0-8266-4c71-e461-d25f6d382a83"
      },
      "outputs": [
        {
          "name": "stdout",
          "output_type": "stream",
          "text": [
            "1\n",
            "2\n",
            "3\n",
            "4\n",
            "5\n"
          ]
        }
      ],
      "source": [
        "#task 1(c)\n",
        "\n",
        "import numpy as np\n",
        "\n",
        "def array_printer(arr, i):\n",
        "\n",
        "  n = len(arr)\n",
        "\n",
        "  if i + 1 == n:\n",
        "    print(arr[i])\n",
        "\n",
        "  else:\n",
        "    print(arr[i])\n",
        "    array_printer(arr, i+1)\n",
        "\n",
        "array = np.array([1, 2, 3, 4, 5])\n",
        "\n",
        "function_call = array_printer(array, 0)"
      ]
    },
    {
      "cell_type": "code",
      "execution_count": null,
      "metadata": {
        "colab": {
          "base_uri": "https://localhost:8080/"
        },
        "id": "rkPEwOZl4cuw",
        "outputId": "48a43807-fd16-489a-ef39-99401a5489c0"
      },
      "outputs": [
        {
          "name": "stdout",
          "output_type": "stream",
          "text": [
            "625\n"
          ]
        }
      ],
      "source": [
        "#task 1(d)\n",
        "\n",
        "def powerN(base, power):\n",
        "\n",
        "  if (power == 0):\n",
        "    return 1\n",
        "\n",
        "  else:\n",
        "    return base* powerN(base, power-1)\n",
        "\n",
        "function_call = powerN(5, 4)\n",
        "\n",
        "print(function_call)"
      ]
    },
    {
      "cell_type": "code",
      "execution_count": null,
      "metadata": {
        "colab": {
          "base_uri": "https://localhost:8080/"
        },
        "id": "-duvZfel5lh0",
        "outputId": "196e7aea-7559-4594-dac5-d40cfb80f04a"
      },
      "outputs": [
        {
          "name": "stdout",
          "output_type": "stream",
          "text": [
            "100\n"
          ]
        }
      ],
      "source": [
        "#task 2(a)\n",
        "\n",
        "def decimal_to_binary_converter(decimal_number):\n",
        "\n",
        "  if ( decimal_number // 2 ) == 0:\n",
        "\n",
        "    return str( decimal_number % 2 )\n",
        "\n",
        "  else:\n",
        "    return str( decimal_to_binary_converter( decimal_number // 2) ) + str (decimal_number % 2)\n",
        "\n",
        "function_call = decimal_to_binary_converter(14)\n",
        "\n",
        "print(function_call)"
      ]
    },
    {
      "cell_type": "code",
      "execution_count": null,
      "metadata": {
        "colab": {
          "base_uri": "https://localhost:8080/"
        },
        "id": "jzDJxxV3EQxo",
        "outputId": "fddb068b-0e6a-41fd-e200-aa437eb59658"
      },
      "outputs": [
        {
          "name": "stdout",
          "output_type": "stream",
          "text": [
            "69\n"
          ]
        }
      ],
      "source": [
        "#task 2(b)\n",
        "\n",
        "class Node:\n",
        "  def __init__(self,elem,next = None):\n",
        "    self.elem, self.next = elem,next\n",
        "\n",
        "class LinkedList:\n",
        "\n",
        "  def __init__(self,arr):\n",
        "    self.head = Node(arr[0])\n",
        "    tail = self.head\n",
        "    for i in range(1,len(arr)):\n",
        "      newNode = Node(arr[i])\n",
        "      tail.next = newNode\n",
        "      tail = newNode\n",
        "\n",
        "l1 = LinkedList(np.array( [ 10, 34, 21, 6, -2 ] ))\n",
        "\n",
        "def sum_in_linked_list(current_node):\n",
        "\n",
        "  if current_node.next is None:\n",
        "    return current_node.elem\n",
        "\n",
        "  else:\n",
        "    return current_node.elem + sum_in_linked_list(current_node.next)\n",
        "\n",
        "function_call = sum_in_linked_list(l1.head)\n",
        "\n",
        "print(function_call)"
      ]
    },
    {
      "cell_type": "code",
      "execution_count": null,
      "metadata": {
        "colab": {
          "base_uri": "https://localhost:8080/"
        },
        "id": "8FQ6An5mG9yN",
        "outputId": "2434b55e-30d7-4abd-8237-8de30b41254e"
      },
      "outputs": [
        {
          "name": "stdout",
          "output_type": "stream",
          "text": [
            "40\n",
            "30\n",
            "20\n",
            "10\n"
          ]
        }
      ],
      "source": [
        "#task 2(c)\n",
        "\n",
        "import numpy as np\n",
        "\n",
        "class Node:\n",
        "  def __init__(self,elem,next = None):\n",
        "    self.elem, self.next = elem,next\n",
        "\n",
        "class LinkedList:\n",
        "\n",
        "  def __init__(self,arr):\n",
        "    self.head = Node(arr[0])\n",
        "    tail = self.head\n",
        "    for i in range(1,len(arr)):\n",
        "      newNode = Node(arr[i])\n",
        "      tail.next = newNode\n",
        "      tail = newNode\n",
        "\n",
        "l1 = LinkedList(np.array([10, 20, 30, 40]))\n",
        "\n",
        "def linked_list_print_in_reverse( current_node ) :\n",
        "\n",
        "  if current_node.next is None:\n",
        "\n",
        "    return current_node.elem\n",
        "\n",
        "  else:\n",
        "\n",
        "    result = str( linked_list_print_in_reverse(current_node.next) )  + \"\\n\" + str(current_node.elem )\n",
        "\n",
        "    return result\n",
        "\n",
        "function_call = linked_list_print_in_reverse(l1.head)\n",
        "\n",
        "print( function_call )\n"
      ]
    },
    {
      "cell_type": "code",
      "execution_count": null,
      "metadata": {
        "colab": {
          "base_uri": "https://localhost:8080/"
        },
        "id": "-KvHWxu30rO8",
        "outputId": "416e31a5-866d-4d29-b08b-93beb7d31a91"
      },
      "outputs": [
        {
          "name": "stdout",
          "output_type": "stream",
          "text": [
            "18\n"
          ]
        }
      ],
      "source": [
        "#task 3\n",
        "\n",
        "def hocBuilder(height):\n",
        "\n",
        "  if height==0:\n",
        "    return 0\n",
        "\n",
        "  elif height==1:\n",
        "    return 8\n",
        "\n",
        "  else:\n",
        "    return 5 + hocBuilder(height-1)\n",
        "\n",
        "print(hocBuilder(3))"
      ]
    },
    {
      "cell_type": "code",
      "execution_count": null,
      "metadata": {
        "colab": {
          "base_uri": "https://localhost:8080/"
        },
        "id": "s5Smpsls1HHu",
        "outputId": "f9e70512-1e26-421e-e022-b704dd5b3733"
      },
      "outputs": [
        {
          "name": "stdout",
          "output_type": "stream",
          "text": [
            "1\n",
            "12\n",
            "123\n",
            "1234\n",
            "12345\n"
          ]
        }
      ],
      "source": [
        "#task 4(a)\n",
        "\n",
        "def printblock(row, i=0, count=0 ):\n",
        "\n",
        "  if i==row:\n",
        "    return None\n",
        "\n",
        "  else:\n",
        "\n",
        "    if count<i:\n",
        "      print(count+1,end=\"\")\n",
        "      return printblock(row,i,count+1)\n",
        "\n",
        "    else:\n",
        "\n",
        "      print(count+1)\n",
        "      return printblock(row,i+1,0)\n",
        "printblock(5)"
      ]
    },
    {
      "cell_type": "code",
      "execution_count": null,
      "metadata": {
        "colab": {
          "base_uri": "https://localhost:8080/"
        },
        "id": "BOi0sFQS1bpf",
        "outputId": "fe1f7e98-e1bf-492c-bfb5-206d2d243623"
      },
      "outputs": [
        {
          "name": "stdout",
          "output_type": "stream",
          "text": [
            "      1\n",
            "     12\n",
            "    123\n",
            "   1234\n",
            "  12345\n"
          ]
        }
      ],
      "source": [
        "#task 4(b)\n",
        "\n",
        "def printblock(row, i=0, count=0):\n",
        "\n",
        "  if i==row:\n",
        "    return None\n",
        "\n",
        "  else:\n",
        "\n",
        "    if count == 0:\n",
        "\n",
        "      if i == 0:\n",
        "\n",
        "        print(\" \"*(row-i),count+1)\n",
        "        return printblock(row,i+1,0)\n",
        "\n",
        "      else:\n",
        "\n",
        "        print(\" \"*(row-i),count+1,end=\"\")\n",
        "        return printblock(row,i,count+1)\n",
        "\n",
        "    elif count < i:\n",
        "\n",
        "      print(count+1,end=\"\")\n",
        "      return printblock(row,i,count+1)\n",
        "\n",
        "    else:\n",
        "\n",
        "      print(count+1)\n",
        "      return printblock(row,i+1,0)\n",
        "\n",
        "printblock(5)"
      ]
    },
    {
      "cell_type": "code",
      "execution_count": null,
      "metadata": {
        "colab": {
          "base_uri": "https://localhost:8080/"
        },
        "id": "caXHDKw81wLX",
        "outputId": "87ae60ba-2b29-437a-b4ab-5be8b1d5c880"
      },
      "outputs": [
        {
          "name": "stdout",
          "output_type": "stream",
          "text": [
            "Investment: 25000 ; Profit: 0.0\n",
            "Investment: 100000 ; Profit: 3375.0\n",
            "Investment: 250000 ; Profit: 15375.0\n",
            "Investment: 350000 ; Profit: 23375.0\n"
          ]
        }
      ],
      "source": [
        "#task 5\n",
        "\n",
        "import sys\n",
        "sys.setrecursionlimit(10000)\n",
        "\n",
        "class FinalQ:\n",
        "\n",
        " def print(self, array, idx):\n",
        "\n",
        "    if(idx<len(array)):\n",
        "      profit = self.calcProfit(array[idx])\n",
        "\n",
        "      print(\"Investment:\",array[idx],\"; Profit:\",profit)\n",
        "      return FinalQ.print(self,array,idx+1)\n",
        "\n",
        "    else:\n",
        "      return None\n",
        "\n",
        " def calcProfit(self, investment):\n",
        "\n",
        "    total=0.0\n",
        "\n",
        "    if investment<=100000:\n",
        "\n",
        "      total+=(investment-25000)/(100/4.5)\n",
        "\n",
        "    else:\n",
        "\n",
        "      total+=75000/(100/4.5)\n",
        "      total+=(investment-100000)/(100/8)\n",
        "\n",
        "    return total\n",
        "\n",
        "\n",
        "array=[25000,100000,250000,350000]\n",
        "\n",
        "function_call = FinalQ()\n",
        "function_call.print( array, 0)\n",
        "\n"
      ]
    },
    {
      "cell_type": "code",
      "execution_count": null,
      "metadata": {
        "colab": {
          "base_uri": "https://localhost:8080/"
        },
        "id": "aL4qcwjS6d0b",
        "outputId": "e0707f65-b397-4b17-9c27-6164dee9a2d7"
      },
      "outputs": [
        {
          "name": "stdout",
          "output_type": "stream",
          "text": [
            "[1, 2, 3, 4, 5, 6, 7, 8, 9, 10, 11, 12, 13, 14, 15, 16, 17]\n"
          ]
        }
      ],
      "source": [
        "# MUST FINISH Recursion Task Lab\n",
        "\n",
        "given_list = [ 1, [2, [3, [4], 5], 6], 7, 8, [9, [[10, 11], 12], 13], 14, [15, [16, [17]]] ]\n",
        "\n",
        "\n",
        "def flattenList( given_list, output_list ):\n",
        "\n",
        "  if len( given_list ) == 0:\n",
        "\n",
        "    return output_list\n",
        "\n",
        "  else:\n",
        "\n",
        "    if type( given_list[0] ) is list:\n",
        "\n",
        "      flattenList( given_list[0], output_list )\n",
        "\n",
        "      given_list = given_list[1::]\n",
        "\n",
        "      return flattenList( given_list, output_list )\n",
        "\n",
        "    else:\n",
        "\n",
        "      output_list.append( given_list[0] )\n",
        "\n",
        "      return flattenList( given_list[1::], output_list )\n",
        "\n",
        "output_list = flattenList(given_list, []) # Initial empty list is sent for update\n",
        "\n",
        "print(output_list)"
      ]
    }
  ],
  "metadata": {
    "colab": {
      "provenance": []
    },
    "kernelspec": {
      "display_name": "Python 3",
      "name": "python3"
    },
    "language_info": {
      "name": "python"
    }
  },
  "nbformat": 4,
  "nbformat_minor": 0
}
