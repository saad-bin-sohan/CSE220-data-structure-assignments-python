{
  "nbformat": 4,
  "nbformat_minor": 0,
  "metadata": {
    "colab": {
      "provenance": []
    },
    "kernelspec": {
      "name": "python3",
      "display_name": "Python 3"
    },
    "language_info": {
      "name": "python"
    }
  },
  "cells": [
    {
      "cell_type": "code",
      "execution_count": null,
      "metadata": {
        "id": "kgxipePF_4y5"
      },
      "outputs": [],
      "source": [
        "import numpy as np\n",
        "class Node:\n",
        "  #write a constructor\n"
      ]
    },
    {
      "cell_type": "code",
      "source": [
        "def createList(arr):\n",
        "  #Write your code here\n",
        "\n",
        "\n"
      ],
      "metadata": {
        "id": "f8k1hRCATv_2"
      },
      "execution_count": null,
      "outputs": []
    },
    {
      "cell_type": "code",
      "source": [
        "def remove_dup(head):\n",
        "  #Write your code here\n"
      ],
      "metadata": {
        "id": "VAzP8HJMPAFV"
      },
      "execution_count": null,
      "outputs": []
    },
    {
      "cell_type": "code",
      "source": [
        "def printLinkedList(head):\n",
        "  temp = head\n",
        "  while temp != None:\n",
        "    if temp.next != None:\n",
        "      print(temp.elem, end = '-->')\n",
        "    else:\n",
        "      print(temp.elem)\n",
        "    temp = temp.next\n",
        "  print()"
      ],
      "metadata": {
        "id": "jG1lLnwTVFHt"
      },
      "execution_count": null,
      "outputs": []
    },
    {
      "cell_type": "code",
      "source": [
        "#Tester Code\n",
        "head=createList(np.array([2,2,2,2,7,7,9,10,10,10,10,12]))\n",
        "printLinkedList(head) #This should print    2-->2-->2-->2-->7-->7-->9-->10-->10-->10-->10-->12\n",
        "h=remove_dup(head)\n",
        "printLinkedList(h)    #This should print    2-->7-->9-->10-->12"
      ],
      "metadata": {
        "id": "0J3lOj2bPA9z"
      },
      "execution_count": null,
      "outputs": []
    }
  ]
}