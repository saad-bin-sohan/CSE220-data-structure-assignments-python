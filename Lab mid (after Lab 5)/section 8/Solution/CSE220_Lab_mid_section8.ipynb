{
  "cells": [
    {
      "cell_type": "markdown",
      "metadata": {
        "id": "5kDMLLb772Lo"
      },
      "source": [
        "**Name:** Sk Md Saad Bin Sohan<br>\n",
        "**ID:** 22101704<br>\n",
        "**CSE220 section:** 8"
      ]
    },
    {
      "cell_type": "code",
      "execution_count": null,
      "metadata": {
        "id": "O-Y_zyaAzM5N"
      },
      "outputs": [],
      "source": [
        "import numpy as np\n",
        "class Node:\n",
        "  def __init__ (self, elem):\n",
        "    self.elem = elem\n",
        "    self.next = None"
      ]
    },
    {
      "cell_type": "markdown",
      "metadata": {
        "id": "9Jg99VK65-fk"
      },
      "source": [
        "### The **create_list(array)** function creates a new linked list from a given np array and returns the head of the list."
      ]
    },
    {
      "cell_type": "code",
      "execution_count": null,
      "metadata": {
        "id": "kZ-lw3jbz11A"
      },
      "outputs": [],
      "source": [
        "def create_list(array):\n",
        "\n",
        "  head = Node( array[0] )\n",
        "\n",
        "  temp = head\n",
        "\n",
        "  for i in range(1, len(array)):\n",
        "\n",
        "    new_node = Node(array[i])\n",
        "\n",
        "    temp.next = new_node\n",
        "\n",
        "    temp = temp.next\n",
        "\n",
        "  return head"
      ]
    },
    {
      "cell_type": "markdown",
      "metadata": {
        "id": "Rx__YIe46Stq"
      },
      "source": [
        "## The insert_into_list_end(head, val) function takes the head of a linked list and inserts val at the end of the linked list.\n",
        "#### You may use this function to write the **sorted_merge(head1, head2)** function"
      ]
    },
    {
      "cell_type": "code",
      "execution_count": null,
      "metadata": {
        "id": "E_Id-wbw40fP"
      },
      "outputs": [],
      "source": [
        "def insert_into_list_end(head, val):\n",
        "\n",
        "  new_node = Node(val)\n",
        "\n",
        "  temp = head\n",
        "\n",
        "  while temp is not None:\n",
        "\n",
        "    if temp.next is None:\n",
        "\n",
        "      temp.next = new_node\n",
        "\n",
        "    temp = temp.next\n",
        "\n",
        "  return head\n"
      ]
    },
    {
      "cell_type": "code",
      "execution_count": null,
      "metadata": {
        "id": "UQecNJ-yz_aJ"
      },
      "outputs": [],
      "source": [
        "def sorted_merge(head1, head2):\n",
        "\n",
        "  temp = head1\n",
        "\n",
        "  count = 0\n",
        "\n",
        "  while temp is not None:\n",
        "    count += 1\n",
        "    temp = temp.next\n",
        "\n",
        "  temp = head2\n",
        "\n",
        "  while temp is not None:\n",
        "    count += 1\n",
        "\n",
        "    temp = temp.next\n",
        "\n",
        "  new_array = np.array([None]*count)\n",
        "\n",
        "  temp = head1\n",
        "\n",
        "  track = 0\n",
        "\n",
        "  while temp is not None:\n",
        "\n",
        "    new_array[track] = temp.elem\n",
        "\n",
        "    temp = temp.next\n",
        "\n",
        "    track += 1\n",
        "\n",
        "  temp = head2\n",
        "\n",
        "  while temp is not None:\n",
        "\n",
        "    new_array[track] = temp.elem\n",
        "\n",
        "    temp = temp.next\n",
        "\n",
        "    track += 1\n",
        "\n",
        "  unique_array = np.array([None]*count)\n",
        "\n",
        "  idx = 0\n",
        "\n",
        "  for elem in new_array:\n",
        "\n",
        "    if elem not in unique_array:\n",
        "\n",
        "      unique_array[idx] = elem\n",
        "\n",
        "      idx += 1\n",
        "\n",
        "  for i in range(len(unique_array)):\n",
        "    max = i\n",
        "\n",
        "    for j in range(i+1, len(unique_array)):\n",
        "      if (unique_array[i] is not None) and (unique_array[j] is not None):\n",
        "        if unique_array[j] > unique_array[max]:\n",
        "          max= j\n",
        "\n",
        "    if (unique_array[i] is not None) and (unique_array[max] is not None):\n",
        "      unique_array[max], unique_array[i] = unique_array[i], unique_array[max]\n",
        "\n",
        "\n",
        "  head = Node(unique_array[0])\n",
        "\n",
        "  temp = head\n",
        "\n",
        "  for i in range(1, len(unique_array)):\n",
        "\n",
        "    if unique_array[i] is not None:\n",
        "\n",
        "      new_node = Node(unique_array[i])\n",
        "\n",
        "      temp.next = new_node\n",
        "\n",
        "      temp = temp.next\n",
        "\n",
        "  return head"
      ]
    },
    {
      "cell_type": "code",
      "execution_count": null,
      "metadata": {
        "id": "ozm0W8ds0C-P"
      },
      "outputs": [],
      "source": [
        "def print_linked_list(head):\n",
        "  temp = head\n",
        "  while temp != None:\n",
        "    if temp.next != None:\n",
        "      print(temp.elem, end = ' --> ')\n",
        "    else:\n",
        "      print(temp.elem)\n",
        "    temp = temp.next\n",
        "  print()"
      ]
    },
    {
      "cell_type": "code",
      "execution_count": null,
      "metadata": {
        "colab": {
          "base_uri": "https://localhost:8080/"
        },
        "id": "dr5MwjOX0FZf",
        "outputId": "9a18423e-ddd1-41f5-b631-af26253c1f24"
      },
      "outputs": [
        {
          "output_type": "stream",
          "name": "stdout",
          "text": [
            "10 --> 9 --> 5 --> 2\n",
            "\n",
            "8 --> 1\n",
            "\n",
            "10 --> 9 --> 8 --> 5 --> 2 --> 1\n",
            "\n",
            "5 --> 3 --> 2 --> -4\n",
            "\n",
            "-4 --> -6\n",
            "\n",
            "5 --> 3 --> 2 --> -4 --> -6\n",
            "\n",
            "4 --> 2 --> -2 --> -4\n",
            "\n",
            "8 --> 6 --> 5 --> -3\n",
            "\n",
            "8 --> 6 --> 5 --> 4 --> 2 --> -2 --> -3 --> -4\n",
            "\n",
            "4 --> 4 --> 4 --> 4\n",
            "\n",
            "3 --> 3 --> 3\n",
            "\n",
            "4 --> 3\n",
            "\n",
            "4 --> 4 --> 4 --> 4\n",
            "\n",
            "4 --> 4 --> 4\n",
            "\n",
            "4\n",
            "\n"
          ]
        }
      ],
      "source": [
        "#Driver Code\n",
        "head1 = create_list( np.array([10, 9, 5, 2]) )\n",
        "head2 = create_list( np.array([8, 1]) )\n",
        "\n",
        "print_linked_list(head1)\n",
        "print_linked_list(head2)\n",
        "\n",
        "head = sorted_merge(head1, head2)\n",
        "print_linked_list(head)    #This should print    10 → 9 → 8 → 5 → 2 → 1\n",
        "\n",
        "\n",
        "##############################\n",
        "\n",
        "\n",
        "head1 = create_list(np.array([5, 3, 2, -4]))\n",
        "head2 = create_list(np.array([-4, -6]))\n",
        "\n",
        "print_linked_list(head1)\n",
        "print_linked_list(head2)\n",
        "\n",
        "head = sorted_merge(head1, head2)\n",
        "print_linked_list(head)    #This should print    5 → 3 → 2 → -4  → -6\n",
        "\n",
        "\n",
        "##############################\n",
        "\n",
        "\n",
        "head1 = create_list(np.array([4, 2, -2, -4]))\n",
        "head2 = create_list(np.array([8, 6, 5, -3]))\n",
        "\n",
        "print_linked_list(head1)\n",
        "print_linked_list(head2)\n",
        "\n",
        "head = sorted_merge(head1, head2)\n",
        "print_linked_list(head)    #This should print    8 → 6 → 5 → 4 → 2 →-2 → -3 → -4\n",
        "\n",
        "\n",
        "###### BONUS #################\n",
        "\n",
        "\n",
        "head1 = create_list(np.array([4, 4, 4, 4]))\n",
        "head2 = create_list(np.array([3, 3, 3]))\n",
        "\n",
        "print_linked_list(head1)\n",
        "print_linked_list(head2)\n",
        "\n",
        "head = sorted_merge(head1, head2)\n",
        "print_linked_list(head)    #This should print    4 → 3\n",
        "\n",
        "###### BONUS #################\n",
        "\n",
        "\n",
        "head1 = create_list(np.array([4, 4, 4, 4]))\n",
        "head2 = create_list(np.array([4, 4, 4]))\n",
        "\n",
        "print_linked_list(head1)\n",
        "print_linked_list(head2)\n",
        "\n",
        "head = sorted_merge(head1, head2)\n",
        "print_linked_list(head)    #This should print    4"
      ]
    }
  ],
  "metadata": {
    "colab": {
      "provenance": []
    },
    "kernelspec": {
      "display_name": "Python 3",
      "name": "python3"
    },
    "language_info": {
      "name": "python"
    }
  },
  "nbformat": 4,
  "nbformat_minor": 0
}