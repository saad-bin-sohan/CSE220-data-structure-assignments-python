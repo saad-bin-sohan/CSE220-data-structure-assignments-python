{
  "cells": [
    {
      "cell_type": "code",
      "execution_count": null,
      "metadata": {
        "id": "O-Y_zyaAzM5N"
      },
      "outputs": [],
      "source": [
        "import numpy as np\n",
        "class Node:\n",
        "  def __init__ (self, elem):\n",
        "    self.elem = elem\n",
        "    self.next = None"
      ]
    },
    {
      "cell_type": "markdown",
      "metadata": {
        "id": "9Jg99VK65-fk"
      },
      "source": [
        "### The **create_list(array)** function creates a new linked list from a given np array and returns the head of the list."
      ]
    },
    {
      "cell_type": "code",
      "execution_count": null,
      "metadata": {
        "id": "kZ-lw3jbz11A"
      },
      "outputs": [],
      "source": [
        "def create_list(array):\n",
        "  #write your code here"
      ]
    },
    {
      "cell_type": "markdown",
      "metadata": {
        "id": "Rx__YIe46Stq"
      },
      "source": [
        "## The insert_into_list_end(head, val) function takes the head of a linked list and inserts val at the end of the linked list.\n",
        "#### You may use this function to write the **sorted_merge(head1, head2)** function"
      ]
    },
    {
      "cell_type": "code",
      "execution_count": null,
      "metadata": {
        "id": "E_Id-wbw40fP"
      },
      "outputs": [],
      "source": [
        "def insert_into_list_end(head, val):\n",
        "  #write your code here"
      ]
    },
    {
      "cell_type": "code",
      "execution_count": null,
      "metadata": {
        "id": "UQecNJ-yz_aJ"
      },
      "outputs": [],
      "source": [
        "def sorted_merge(head1, head2):\n",
        "  # write your code here\n"
      ]
    },
    {
      "cell_type": "code",
      "execution_count": null,
      "metadata": {
        "id": "ozm0W8ds0C-P"
      },
      "outputs": [],
      "source": [
        "def print_linked_list(head):\n",
        "  temp = head\n",
        "  while temp != None:\n",
        "    if temp.next != None:\n",
        "      print(temp.elem, end = ' --> ')\n",
        "    else:\n",
        "      print(temp.elem)\n",
        "    temp = temp.next\n",
        "  print()"
      ]
    },
    {
      "cell_type": "code",
      "execution_count": null,
      "metadata": {
        "colab": {
          "background_save": true
        },
        "id": "dr5MwjOX0FZf"
      },
      "outputs": [],
      "source": [
        "#Driver Code\n",
        "head1 = create_list(np.array([10, 9, 5, 2]))\n",
        "head2 = create_list(np.array([8, 1]))\n",
        "\n",
        "print_linked_list(head1)\n",
        "print_linked_list(head2)\n",
        "\n",
        "head = sorted_merge(head1, head2)\n",
        "print_linked_list(head)    #This should print    10 → 9 → 8 → 5 → 2 → 1\n",
        "\n",
        "\n",
        "##############################\n",
        "\n",
        "\n",
        "head1 = create_list(np.array([5, 3, 2, -4]))\n",
        "head2 = create_list(np.array([-4, -6]))\n",
        "\n",
        "print_linked_list(head1)\n",
        "print_linked_list(head2)\n",
        "\n",
        "head = sorted_merge(head1, head2)\n",
        "print_linked_list(head)    #This should print    5 → 3 → 2 → -4  → -6\n",
        "\n",
        "\n",
        "##############################\n",
        "\n",
        "\n",
        "head1 = create_list(np.array([4, 2, -2, -4]))\n",
        "head2 = create_list(np.array([8, 6, 5, -3]))\n",
        "\n",
        "print_linked_list(head1)\n",
        "print_linked_list(head2)\n",
        "\n",
        "head = sorted_merge(head1, head2)\n",
        "print_linked_list(head)    #This should print    8 → 6 → 5 → 4 → 2 →-2 → -3 → -4\n",
        "\n",
        "\n",
        "###### BONUS #################\n",
        "\n",
        "\n",
        "head1 = create_list(np.array([4, 4, 4, 4]))\n",
        "head2 = create_list(np.array([3, 3, 3]))\n",
        "\n",
        "print_linked_list(head1)\n",
        "print_linked_list(head2)\n",
        "\n",
        "head = sorted_merge(head1, head2)\n",
        "print_linked_list(head)    #This should print    4 → 3\n",
        "\n",
        "###### BONUS #################\n",
        "\n",
        "\n",
        "head1 = create_list(np.array([4, 4, 4, 4]))\n",
        "head2 = create_list(np.array([4, 4, 4]))\n",
        "\n",
        "print_linked_list(head1)\n",
        "print_linked_list(head2)\n",
        "\n",
        "head = sorted_merge(head1, head2)\n",
        "print_linked_list(head)    #This should print    4"
      ]
    }
  ],
  "metadata": {
    "colab": {
      "provenance": []
    },
    "kernelspec": {
      "display_name": "Python 3",
      "name": "python3"
    },
    "language_info": {
      "name": "python"
    }
  },
  "nbformat": 4,
  "nbformat_minor": 0
}