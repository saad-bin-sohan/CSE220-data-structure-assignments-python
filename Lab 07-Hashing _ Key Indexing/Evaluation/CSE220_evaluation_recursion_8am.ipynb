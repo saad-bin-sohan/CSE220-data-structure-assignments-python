{
  "nbformat": 4,
  "nbformat_minor": 0,
  "metadata": {
    "colab": {
      "provenance": []
    },
    "kernelspec": {
      "name": "python3",
      "display_name": "Python 3"
    },
    "language_info": {
      "name": "python"
    }
  },
  "cells": [
    {
      "cell_type": "code",
      "execution_count": null,
      "metadata": {
        "id": "YoxDHaqWBZyz"
      },
      "outputs": [],
      "source": [
        "import numpy as np"
      ]
    },
    {
      "cell_type": "code",
      "source": [
        "class Node:\n",
        "  def __init__(self, elem, next=None):\n",
        "    self.elem = elem\n",
        "    self.next = next"
      ],
      "metadata": {
        "id": "qwoDk1mdBjot"
      },
      "execution_count": null,
      "outputs": []
    },
    {
      "cell_type": "code",
      "source": [
        "class Linked_List:\n",
        "  def __init__(self):\n",
        "    self.head = None\n",
        "    self.tail = None\n",
        "\n",
        "  def add_elem(self, elem):\n",
        "    if self.head == None:\n",
        "      self.head = Node(elem, None)\n",
        "      self.tail = self.head\n",
        "\n",
        "    else:\n",
        "      self.tail.next = Node(elem, None)\n",
        "      self.tail = self.tail.next\n",
        "\n",
        "  def print_linked_list(self):\n",
        "    temp = self.head\n",
        "    while temp != None:\n",
        "      if temp.next != None:\n",
        "        print(temp.elem, end = ' --> ')\n",
        "      else:\n",
        "        print(temp.elem)\n",
        "      temp = temp.next\n",
        "    print()"
      ],
      "metadata": {
        "id": "Idz-KET-Bt8d"
      },
      "execution_count": null,
      "outputs": []
    },
    {
      "cell_type": "code",
      "source": [
        "arr = np.array([10, 20, 20, 20, 30, 30])\n",
        "linked_list = Linked_List()\n",
        "for i in arr:\n",
        "  linked_list.add_elem(i)\n",
        "\n",
        "linked_list.print_linked_list()"
      ],
      "metadata": {
        "id": "6_LSE2QaB8AH"
      },
      "execution_count": null,
      "outputs": []
    },
    {
      "cell_type": "code",
      "source": [],
      "metadata": {
        "id": "q4vNVpVpBnd1"
      },
      "execution_count": null,
      "outputs": []
    }
  ]
}