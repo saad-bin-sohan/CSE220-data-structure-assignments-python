{
  "cells": [
    {
      "cell_type": "code",
      "execution_count": null,
      "metadata": {
        "id": "D6vC520OPeTa"
      },
      "outputs": [],
      "source": [
        "class BTNode:\n",
        "  def __init__(self, elem):\n",
        "    self.elem = elem\n",
        "    self.right = None\n",
        "    self.left = None"
      ]
    },
    {
      "cell_type": "code",
      "execution_count": null,
      "metadata": {
        "id": "UDTKlm4-PfNM"
      },
      "outputs": [],
      "source": [
        "def inorder(root):\n",
        "\n",
        "  if root == None:\n",
        "\n",
        "    return\n",
        "\n",
        "  inorder(root.left)\n",
        "\n",
        "  print(root.elem, end = ' ')\n",
        "\n",
        "  inorder(root.right)"
      ]
    },
    {
      "cell_type": "code",
      "execution_count": null,
      "metadata": {
        "colab": {
          "base_uri": "https://localhost:8080/"
        },
        "id": "Rtc22SPzPgzM",
        "outputId": "2125a47b-5e3c-4127-e9bf-b91edd9e3074"
      },
      "outputs": [
        {
          "name": "stdout",
          "output_type": "stream",
          "text": [
            "H D B E A I F J C G k "
          ]
        }
      ],
      "source": [
        "def tree_construction(arr, i = 1):\n",
        "\n",
        "  if i>=len(arr) or arr[i] is None:\n",
        "\n",
        "    return None\n",
        "\n",
        "  p = BTNode(arr[i])\n",
        "\n",
        "  p.left = tree_construction(arr, 2*i)\n",
        "\n",
        "  p.right = tree_construction(arr, 2*i+1)\n",
        "\n",
        "  return p\n",
        "\n",
        "\n",
        "root2 = tree_construction([None, 'A', 'B', 'C', 'D', 'E', 'F', 'G', 'H', None, None, None, 'I', 'J', None, 'k'])\n",
        "inorder(root2)"
      ]
    },
    {
      "cell_type": "markdown",
      "metadata": {
        "id": "S2nNCJNhPqGq"
      },
      "source": [
        "Task 1"
      ]
    },
    {
      "cell_type": "code",
      "execution_count": null,
      "metadata": {
        "colab": {
          "base_uri": "https://localhost:8080/"
        },
        "id": "zbBHU3FoPieb",
        "outputId": "4f312ff3-a79e-4268-8c5e-5f945c16bbbe"
      },
      "outputs": [
        {
          "name": "stdout",
          "output_type": "stream",
          "text": [
            "Given Tree Inorder Traversal:  40 20 60 10 30 \n",
            "Mirrored Tree Inorder Traversal:  30 10 60 20 40 "
          ]
        }
      ],
      "source": [
        "def convert_mirror(root):\n",
        "\n",
        "  if root is None:\n",
        "\n",
        "    return None\n",
        "\n",
        "  new_node=BTNode(root.elem)\n",
        "\n",
        "  new_node.left=convert_mirror(root.right)\n",
        "\n",
        "  new_node.right=convert_mirror(root.left)\n",
        "\n",
        "  return new_node\n",
        "\n",
        "\n",
        "#DRIVER CODE\n",
        "root = BTNode(10)\n",
        "n1 = BTNode(20)\n",
        "n2 = BTNode(30)\n",
        "n3 = BTNode(40)\n",
        "n4 = BTNode(60)\n",
        "\n",
        "root.left = n1\n",
        "root.right = n2\n",
        "\n",
        "n1.left = n3\n",
        "n1.right = n4\n",
        "\n",
        "print('Given Tree Inorder Traversal: ', end = ' ')\n",
        "inorder(root) #Given Tree Inorder Traversal:  40 20 60 10 30\n",
        "print()\n",
        "\n",
        "root2 = convert_mirror(root)\n",
        "print('Mirrored Tree Inorder Traversal: ', end = ' ')\n",
        "inorder(root2) #Mirrored Tree Inorder Traversal:  30 10 60 20 40"
      ]
    },
    {
      "cell_type": "markdown",
      "metadata": {
        "id": "c-TBf3m0PrtK"
      },
      "source": [
        "Task 2"
      ]
    },
    {
      "cell_type": "code",
      "execution_count": null,
      "metadata": {
        "colab": {
          "base_uri": "https://localhost:8080/"
        },
        "id": "lsuxinlBPmji",
        "outputId": "8301a5a3-03ff-4efc-eca2-f83ffdfc0bb5"
      },
      "outputs": [
        {
          "name": "stdout",
          "output_type": "stream",
          "text": [
            "Given Tree Inorder Traversal:  3 9 5 4 2 7 \n",
            "Level Wise Largest Value:  {0: 4, 1: 9, 2: 7}\n"
          ]
        }
      ],
      "source": [
        "def largest_level(root):\n",
        "\n",
        "  return helper(root)\n",
        "\n",
        "def helper(root,level={},i=0):\n",
        "\n",
        "  if root is None:\n",
        "\n",
        "    return level\n",
        "\n",
        "  if i not in level or root.elem>level[i]:\n",
        "\n",
        "    level[i]=root.elem\n",
        "\n",
        "  helper(root.left, level, i+1)\n",
        "\n",
        "  helper(root.right, level, i+1)\n",
        "\n",
        "  return level\n",
        "\n",
        "#DRIVER CODE\n",
        "root = tree_construction([None, 4,9,2,3,5,None,7])\n",
        "print('Given Tree Inorder Traversal: ', end = ' ')\n",
        "inorder(root) #Given Tree Inorder Traversal:  3 9 5 4 2 7\n",
        "print()\n",
        "print('Level Wise Largest Value: ', end = ' ')\n",
        "print(largest_level(root)) #Level Wise Largest Value:  {0: 4, 1: 9, 2: 7}"
      ]
    },
    {
      "cell_type": "markdown",
      "metadata": {
        "id": "7r3lH3aWPz2d"
      },
      "source": [
        "Task 3"
      ]
    },
    {
      "cell_type": "code",
      "execution_count": null,
      "metadata": {
        "colab": {
          "base_uri": "https://localhost:8080/"
        },
        "id": "zFwP64v4Pu6d",
        "outputId": "027fb22a-9827-4aee-a6f9-3f38fa4e19a4"
      },
      "outputs": [
        {
          "name": "stdout",
          "output_type": "stream",
          "text": [
            "Given Tree Inorder Traversal:  4 8 10 12 14 20 22 \n",
            "Inorder successor of node 8: 10\n"
          ]
        }
      ],
      "source": [
        "def inorder_successor(root, x):\n",
        "\n",
        "  if root is None:\n",
        "        return None\n",
        "\n",
        "  successor = None\n",
        "\n",
        "  while root:\n",
        "\n",
        "    if x.elem < root.elem:\n",
        "\n",
        "      successor = root\n",
        "\n",
        "      root = root.left\n",
        "\n",
        "    else:\n",
        "\n",
        "      root = root.right\n",
        "\n",
        "  return successor\n",
        "\n",
        "#DRIVER CODE\n",
        "root = BTNode(20)\n",
        "n1 = BTNode(8)\n",
        "n2 = BTNode(22)\n",
        "n3 = BTNode(4)\n",
        "n4 = BTNode(12)\n",
        "n5 = BTNode(10)\n",
        "n6 = BTNode(14)\n",
        "\n",
        "root.left = n1\n",
        "root.right = n2\n",
        "\n",
        "n1.left = n3\n",
        "n1.right = n4\n",
        "\n",
        "n4.left = n5\n",
        "n4.right = n6\n",
        "\n",
        "print('Given Tree Inorder Traversal: ', end = ' ')\n",
        "inorder(root) #Given Tree Inorder Traversal:  4 8 10 12 14 20 22\n",
        "print()\n",
        "\n",
        "x = n1\n",
        "print(f'Inorder successor of node {x.elem}: {inorder_successor(root, x).elem}') #Inorder successor of node 8: 10"
      ]
    },
    {
      "cell_type": "markdown",
      "metadata": {
        "id": "t3IGW4OaP8Vy"
      },
      "source": [
        "Task 4"
      ]
    },
    {
      "cell_type": "code",
      "execution_count": null,
      "metadata": {
        "colab": {
          "base_uri": "https://localhost:8080/"
        },
        "id": "sXU9GfbjcLx4",
        "outputId": "e12f46db-49d2-49ba-a736-dfcc700ad071"
      },
      "outputs": [
        {
          "name": "stdout",
          "output_type": "stream",
          "text": [
            "Given Tree Inorder Traversal: 4 5 6 7 8 9 11 12 \n",
            "7\n"
          ]
        }
      ],
      "source": [
        "def count_nodes (root) :\n",
        "  if root is None:\n",
        "    return 0\n",
        "\n",
        "  else:\n",
        "    return 1 + count_nodes(root.left) + count_nodes(root.right)\n",
        "\n",
        "def kth_smallest(root, k):\n",
        "\n",
        "  count = count_nodes(root.left)\n",
        "\n",
        "  if k <= count:\n",
        "\n",
        "    return kth_smallest(root.left, k)\n",
        "\n",
        "  elif k > count + 1:\n",
        "\n",
        "    return kth_smallest(root.right, k-1-count)\n",
        "\n",
        "  return root\n",
        "\n",
        "#DRIVER CODE\n",
        "root = tree_construction( [None, 9,5, 11,4,7, None, 12, None, None, 6,8, None, None, None, None] )\n",
        "print('Given Tree Inorder Traversal:', end = ' ')\n",
        "inorder(root)\n",
        "print()\n",
        "k = 4\n",
        "print(kth_smallest(root, k).elem)"
      ]
    },
    {
      "cell_type": "markdown",
      "metadata": {
        "id": "SBD-0xoZP_ni"
      },
      "source": [
        "Bonus"
      ]
    },
    {
      "cell_type": "code",
      "execution_count": null,
      "metadata": {
        "id": "m4E9_E8PThk6"
      },
      "outputs": [],
      "source": [
        "#WRITE THE FUNCTION AND DRIVER CODE BY YOURSELF"
      ]
    },
    {
      "cell_type": "code",
      "execution_count": null,
      "metadata": {
        "colab": {
          "base_uri": "https://localhost:8080/"
        },
        "id": "qubl5oyZyjJp",
        "outputId": "49fafb1e-508d-451b-da60-9754db88fa34"
      },
      "outputs": [
        {
          "name": "stdout",
          "output_type": "stream",
          "text": [
            "Given Tree Inorder Traversal:  4 5 6 7 8 9 11 12 \n",
            "2\n"
          ]
        }
      ],
      "source": [
        "def h(root, level=0, d= {}):\n",
        "\n",
        "  if root is None:\n",
        "\n",
        "    return\n",
        "\n",
        "  if level not in d:\n",
        "\n",
        "    d[level] = root.elem\n",
        "\n",
        "  else:\n",
        "\n",
        "    d[level] += root.elem\n",
        "\n",
        "  h(root.left, level+1, d)\n",
        "\n",
        "  h(root. right, level+1, d)\n",
        "\n",
        "  return d\n",
        "\n",
        "def bonus(root):\n",
        "\n",
        "  data = h(root)\n",
        "\n",
        "  sum = 0\n",
        "\n",
        "  for i in data:\n",
        "\n",
        "    if i % 2 == 0:\n",
        "\n",
        "      sum += data[i]\n",
        "\n",
        "    else:\n",
        "\n",
        "      sum -= data[i]\n",
        "\n",
        "  return sum\n",
        "\n",
        "root = tree_construction([None, 9,5, 11,4,7, None, 12, None, None, 6,8, None, None, None, None ])\n",
        "print(\"Given Tree Inorder Traversal: \", end = ' ')\n",
        "\n",
        "inorder(root)\n",
        "print()\n",
        "k = 4\n",
        "print(bonus(root))"
      ]
    }
  ],
  "metadata": {
    "colab": {
      "provenance": []
    },
    "kernelspec": {
      "display_name": "Python 3",
      "name": "python3"
    },
    "language_info": {
      "name": "python"
    }
  },
  "nbformat": 4,
  "nbformat_minor": 0
}
