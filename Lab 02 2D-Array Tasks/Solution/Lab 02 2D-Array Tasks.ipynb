{
  "cells": [
    {
      "cell_type": "markdown",
      "metadata": {
        "id": "l7Neg32qlqKi"
      },
      "source": [
        "**Instructions to Follow (Failing to follow these will result mark penalties).**\n",
        "\n",
        "\n",
        "1.   You can not use any built-in function except len()\n",
        "2.   You can use the shape tuple of numpy arrays\n",
        "2.   You can not use any other python collections except array (e.g: tuple, dictionaries etc.).\n",
        "3. We will initialize a new array using numpy library. We have to mention the fixed size during initialization. There might be two approach.\n",
        "\n",
        "  i. arr = np.zeros((10), dtype = int) #Initializing an array length 10 with values 0\n",
        "\n",
        "  ii. arr = np.array([10, 20, 30, 40]) #Initializing an array length 4 with the values.\n",
        "4. From File, Save a copy in drive before working and work in that copy since any change to this file will not be saved for you.\n",
        "\n",
        "\n",
        "\n",
        "\n"
      ]
    },
    {
      "cell_type": "code",
      "execution_count": null,
      "metadata": {
        "colab": {
          "base_uri": "https://localhost:8080/"
        },
        "id": "1fdSwhC1lman",
        "outputId": "57060447-4f09-4959-8c14-f39598d545a4"
      },
      "outputs": [
        {
          "name": "stdout",
          "output_type": "stream",
          "text": [
            "Collecting fhm-unittest\n",
            "  Downloading fhm_unittest-1.0.1-py3-none-any.whl (2.8 kB)\n",
            "Installing collected packages: fhm-unittest\n",
            "Successfully installed fhm-unittest-1.0.1\n",
            "Collecting fuzzywuzzy\n",
            "  Downloading fuzzywuzzy-0.18.0-py2.py3-none-any.whl (18 kB)\n",
            "Installing collected packages: fuzzywuzzy\n",
            "Successfully installed fuzzywuzzy-0.18.0\n"
          ]
        },
        {
          "name": "stderr",
          "output_type": "stream",
          "text": [
            "/usr/local/lib/python3.10/dist-packages/fuzzywuzzy/fuzz.py:11: UserWarning: Using slow pure-python SequenceMatcher. Install python-Levenshtein to remove this warning\n",
            "  warnings.warn('Using slow pure-python SequenceMatcher. Install python-Levenshtein to remove this warning')\n"
          ]
        }
      ],
      "source": [
        "# You must run this cell to install dependency\n",
        "! pip3 install fhm-unittest\n",
        "! pip3 install fuzzywuzzy\n",
        "import fhm_unittest as unittest\n",
        "import numpy as np"
      ]
    },
    {
      "cell_type": "code",
      "execution_count": null,
      "metadata": {
        "id": "s1d8VpMcmAYI"
      },
      "outputs": [],
      "source": [
        "#You must run this cell to print matrix and for the driver code to work\n",
        "def print_matrix(m):\n",
        "\n",
        "  row,col = m.shape\n",
        "\n",
        "  for i in range(row):\n",
        "\n",
        "    c = 1\n",
        "\n",
        "    print('|', end='')\n",
        "    for j in range(col):\n",
        "      c += 1\n",
        "      if(len(str(m[i][j])) == 1):\n",
        "        print(' ',m[i][j], end = '  |')\n",
        "        c += 6\n",
        "      else:\n",
        "        print(' ',m[i][j], end = ' |')\n",
        "        c += 6\n",
        "    print()\n",
        "    print('-'*(c-col))\n",
        "\n"
      ]
    },
    {
      "cell_type": "markdown",
      "metadata": {
        "id": "Q2LBZRlumbFr"
      },
      "source": [
        "Task 1: Zigzag Walk"
      ]
    },
    {
      "cell_type": "code",
      "execution_count": null,
      "metadata": {
        "colab": {
          "base_uri": "https://localhost:8080/"
        },
        "id": "_F8YAVawmMwC",
        "outputId": "fd548ac2-71c7-4ad7-d200-0ec2bda429ef"
      },
      "outputs": [
        {
          "name": "stdout",
          "output_type": "stream",
          "text": [
            "|  3W |  8B |  4W |  6B |  1W |  5B |\n",
            "-------------------------------------\n",
            "|  3B |  2W |  1B |  6W |  3B |  8W |\n",
            "-------------------------------------\n",
            "|  9W |  0B |  7W |  5B |  3W |  8B |\n",
            "-------------------------------------\n",
            "|  2B |  1W |  3B |  6W |  0B |  4W |\n",
            "-------------------------------------\n",
            "|  1W |  4B |  2W |  8B |  6W |  6B |\n",
            "-------------------------------------\n",
            "Walking Sequence:\n",
            "3W 4W 1W \n",
            "8W 6W 2W \n",
            "9W 7W 3W \n",
            "4W 6W 1W \n",
            "1W 2W 6W \n"
          ]
        }
      ],
      "source": [
        "def walk_zigzag(floor):\n",
        "\n",
        "  row_count, column_count = floor.shape          ######very important\n",
        "\n",
        "  for i in range(row_count):\n",
        "\n",
        "    if i % 2 == 0:\n",
        "\n",
        "      for j in range(column_count):\n",
        "\n",
        "        if j % 2 == 0:\n",
        "\n",
        "          print(floor[i][j], end = ' ')\n",
        "\n",
        "      print()\n",
        "\n",
        "    else:\n",
        "\n",
        "      for j in range(-1, -column_count-1, -2):\n",
        "        print(floor[i][j], end= ' ')\n",
        "\n",
        "      print()\n",
        "\n",
        "\n",
        "floor = np.array([[ '3W' , '8B' , '4W' , '6B' , '1W' , '5B'],\n",
        "                  ['3B' , '2W' , '1B' , '6W' , '3B' , '8W'],\n",
        "                  ['9W' , '0B' , '7W' , '5B' , '3W' , '8B'],\n",
        "                  ['2B' , '1W' , '3B' , '6W' , '0B' , '4W'],\n",
        "                  ['1W' , '4B' , '2W' , '8B' , '6W' , '6B']]\n",
        "                )\n",
        "print_matrix(floor)\n",
        "print('Walking Sequence:')\n",
        "walk_zigzag(floor)\n",
        "\n",
        "#This should print\n",
        "# 3W 4W 1W\n",
        "# 8W 6W 2W\n",
        "# 9W 7W 3W\n",
        "# 4W 6W 1W\n",
        "# 1W 2W 6W"
      ]
    },
    {
      "cell_type": "markdown",
      "metadata": {
        "id": "XP-y7UlNm3BY"
      },
      "source": [
        "Task 2: Landscape Screen"
      ]
    },
    {
      "cell_type": "code",
      "execution_count": null,
      "metadata": {
        "colab": {
          "base_uri": "https://localhost:8080/"
        },
        "id": "3LQXKBz3mUkj",
        "outputId": "65b3dfaa-d332-4479-aad0-10a8e1108804"
      },
      "outputs": [
        {
          "name": "stdout",
          "output_type": "stream",
          "text": [
            "|  6  |  0  |  3  |\n",
            "-------------------\n",
            "|  1  |  2  |  2  |\n",
            "-------------------\n",
            "|  10 |  12 |  9  |\n",
            "-------------------\n",
            "|  9  |  12 |  5  |\n",
            "-------------------\n",
            "\n",
            "|  6  |  1  |  10 |  9  |\n",
            "-------------------------\n",
            "|  0  |  2  |  12 |  12 |\n",
            "-------------------------\n",
            "|  3  |  2  |  9  |  5  |\n",
            "-------------------------\n"
          ]
        }
      ],
      "source": [
        "def landscape(m):\n",
        "\n",
        "  column_count, row_count = m.shape\n",
        "\n",
        "  final_array = np.zeros( (row_count, column_count), dtype = int )\n",
        "\n",
        "  for i in range(row_count): #why not org_shape\n",
        "\n",
        "    for j in range(column_count):\n",
        "\n",
        "      final_array[i][j] = m[j][i]\n",
        "\n",
        "  return final_array\n",
        "\n",
        "\n",
        "m = np.random.randint(15,size=(4,3)) #This creates an np array of 4 x 3 where the values are random numbers from [0,15) range\n",
        "print_matrix(m)\n",
        "print()\n",
        "print_matrix(landscape(m))"
      ]
    },
    {
      "cell_type": "markdown",
      "metadata": {
        "id": "piw0POuVna4_"
      },
      "source": [
        "Task 3: Seating Arrangement"
      ]
    },
    {
      "cell_type": "code",
      "execution_count": null,
      "metadata": {
        "colab": {
          "base_uri": "https://localhost:8080/"
        },
        "id": "H4EDQCTfnes7",
        "outputId": "506590d6-002c-4b6f-91f3-f5d46b8f45d6"
      },
      "outputs": [
        {
          "name": "stdout",
          "output_type": "stream",
          "text": [
            "|  7  |  13 |  9  |  14 |\n",
            "-------------------------\n",
            "|  12 |  8  |  15 |  11 |\n",
            "-------------------------\n",
            "|  10 |  17 |  3  |  2  |\n",
            "-------------------------\n",
            "|  15 |  10 |  1  |  4  |\n",
            "-------------------------\n",
            "\n",
            "False\n",
            "Accepted\n",
            "|  8  |  15 |  7  |  12 |\n",
            "-------------------------\n",
            "|  13 |  2  |  18 |  11 |\n",
            "-------------------------\n",
            "|  9  |  20 |  5  |  2  |\n",
            "-------------------------\n",
            "|  14 |  9  |  0  |  10 |\n",
            "-------------------------\n",
            "\n",
            "True\n",
            "Accepted\n"
          ]
        }
      ],
      "source": [
        "import numpy as np\n",
        "def arrangement(m, diff):\n",
        "  row_count, column_count = m.shape\n",
        "\n",
        "  for i in range(row_count):\n",
        "    for j in range(column_count):\n",
        "\n",
        "      if (i!=j) and( abs(m[i][j] - m[j][i]) != diff ):\n",
        "        return False\n",
        "\n",
        "  return True\n",
        "\n",
        "m = np.array([[7,13,9,14],[12,8,15,11],[10,17,3,2],[15,10,1,4]])\n",
        "print_matrix(m)\n",
        "print()\n",
        "returned_value = arrangement(m,1)\n",
        "print(returned_value)#This should print False\n",
        "unittest.output_test(returned_value, False)\n",
        "\n",
        "m = np.array([[8,15,7,12],[13,2,18,11],[9,20,5,2],[14,9,0,10]])\n",
        "print_matrix(m)\n",
        "print()\n",
        "returned_value = arrangement(m,2)\n",
        "print(returned_value)#This should print True\n",
        "unittest.output_test(returned_value, True)"
      ]
    },
    {
      "cell_type": "markdown",
      "metadata": {
        "id": "dULlGfSWoa_-"
      },
      "source": [
        "Task 4: Chess Piece"
      ]
    },
    {
      "cell_type": "code",
      "execution_count": null,
      "metadata": {
        "colab": {
          "base_uri": "https://localhost:8080/"
        },
        "id": "CXu8BAjWn6IN",
        "outputId": "bcf9eebe-19fa-4d4b-a6bf-db781d76f961"
      },
      "outputs": [
        {
          "name": "stdout",
          "output_type": "stream",
          "text": [
            "|  0  |  0  |  0  |  0  |  0  |  0  |  0  |  0  |\n",
            "-------------------------------------------------\n",
            "|  0  |  0  |  0  |  3  |  0  |  3  |  0  |  0  |\n",
            "-------------------------------------------------\n",
            "|  0  |  0  |  3  |  0  |  0  |  0  |  3  |  0  |\n",
            "-------------------------------------------------\n",
            "|  0  |  0  |  0  |  0  |  33 |  0  |  0  |  0  |\n",
            "-------------------------------------------------\n",
            "|  0  |  0  |  3  |  0  |  0  |  0  |  3  |  0  |\n",
            "-------------------------------------------------\n",
            "|  0  |  0  |  0  |  3  |  0  |  3  |  0  |  0  |\n",
            "-------------------------------------------------\n",
            "|  0  |  0  |  0  |  0  |  0  |  0  |  0  |  0  |\n",
            "-------------------------------------------------\n",
            "|  0  |  0  |  0  |  0  |  0  |  0  |  0  |  0  |\n",
            "-------------------------------------------------\n"
          ]
        }
      ],
      "source": [
        "def show_knight_move(knight):\n",
        "\n",
        "  chess_board = np.zeros((8, 8), dtype= int)\n",
        "\n",
        "  chess_board[knight[0]][knight[1]] = 33\n",
        "\n",
        "  current_row, current_column = knight[0], knight[1]\n",
        "\n",
        "  want_to_move_to = ( (-2, 1), (-2, -1), (2, 1), (2, -1), (-1, -2), (1, -2), (-1, 2), (1, 2) )\n",
        "\n",
        "  for mini_tuples in want_to_move_to:\n",
        "\n",
        "    if  ( 0 <= (current_row + mini_tuples[0]) <= 7 ) and ( 0 <= (current_column + mini_tuples[1] ) <= 7 ):\n",
        "\n",
        "      chess_board[current_row + mini_tuples[0]][current_column + mini_tuples[1]] = 3\n",
        "\n",
        "  return chess_board\n",
        "\n",
        "\n",
        "knight = (3,4)\n",
        "chess_board = show_knight_move(knight)\n",
        "print_matrix(chess_board)"
      ]
    },
    {
      "cell_type": "markdown",
      "metadata": {
        "id": "Dox4AStYo8Xk"
      },
      "source": [
        "Bonus Task (UNGRADED)"
      ]
    },
    {
      "cell_type": "code",
      "execution_count": null,
      "metadata": {
        "colab": {
          "base_uri": "https://localhost:8080/"
        },
        "id": "AvzKs7wnoraw",
        "outputId": "10cd2cf4-4631-4aa0-a801-685c560ba9e9"
      },
      "outputs": [
        {
          "name": "stdout",
          "output_type": "stream",
          "text": [
            "|  0  |  0  |  0  |  0  |  0  |  0  |  0  |  0  |\n",
            "-------------------------------------------------\n",
            "|  0  |  0  |  0  |  0  |  0  |  0  |  0  |  0  |\n",
            "-------------------------------------------------\n",
            "|  0  |  0  |  0  |  0  |  0  |  0  |  0  |  0  |\n",
            "-------------------------------------------------\n",
            "|  0  |  0  |  0  |  0  |  0  |  3  |  0  |  3  |\n",
            "-------------------------------------------------\n",
            "|  0  |  0  |  0  |  0  |  3  |  0  |  0  |  0  |\n",
            "-------------------------------------------------\n",
            "|  0  |  5  |  0  |  0  |  0  |  0  |  33 |  0  |\n",
            "-------------------------------------------------\n",
            "|  0  |  0  |  0  |  0  |  3  |  0  |  0  |  0  |\n",
            "-------------------------------------------------\n",
            "|  0  |  0  |  0  |  0  |  0  |  3  |  0  |  3  |\n",
            "-------------------------------------------------\n",
            "Rook can kill\n"
          ]
        }
      ],
      "source": [
        "def topple(knight,rook):\n",
        "\n",
        "  chess_board = np.zeros((8, 8), dtype= int)\n",
        "\n",
        "  chess_board[knight[0]][knight[1]] = 33\n",
        "\n",
        "  chess_board[rook[0]][rook[1]] = 5\n",
        "\n",
        "  def rook_killability():\n",
        "\n",
        "    curr_row, curr_col = rook[0], rook[1]\n",
        "\n",
        "    for i in range(7):\n",
        "\n",
        "      if chess_board[curr_row][i] == 33:\n",
        "\n",
        "        return f\"Rook can kill\"\n",
        "\n",
        "    for j in range(7):\n",
        "      if chess_board[j][curr_col] == 33:\n",
        "        return f\"Rook can kill\"\n",
        "\n",
        "    return f\"\"\n",
        "\n",
        "  def knight_killability():\n",
        "\n",
        "    current_row, current_column = knight[0], knight[1]\n",
        "\n",
        "    want_to_move_to = ( (-2, 1), (-2, -1), (2, 1), (2, -1), (-1, -2), (1, -2), (-1, 2), (1, 2) )\n",
        "\n",
        "    for mini_tuples in want_to_move_to:\n",
        "\n",
        "      if  ( 0 <= (current_row + mini_tuples[0]) <= 7 ) and ( 0 <= (current_column + mini_tuples[1] ) <= 7 ):\n",
        "\n",
        "        if chess_board[current_row + mini_tuples[0]][current_column + mini_tuples[1]] == 5:\n",
        "\n",
        "          return f\"Knight can kill\"\n",
        "\n",
        "        else:\n",
        "          chess_board[current_row + mini_tuples[0]][current_column + mini_tuples[1]] = 3\n",
        "\n",
        "    return f\"\"\n",
        "\n",
        "  result = '' + rook_killability() + knight_killability()\n",
        "\n",
        "  if result == '':\n",
        "    return (chess_board, \"Cannot kill\")\n",
        "\n",
        "  else:\n",
        "    return (chess_board, result)\n",
        "\n",
        "knight = (5,6)\n",
        "rook = (5,1)\n",
        "chess_board, ans = topple(knight,rook)\n",
        "print_matrix(chess_board)\n",
        "print(ans) #This should print Rook can kill"
      ]
    }
  ],
  "metadata": {
    "colab": {
      "provenance": []
    },
    "kernelspec": {
      "display_name": "Python 3",
      "name": "python3"
    },
    "language_info": {
      "name": "python"
    }
  },
  "nbformat": 4,
  "nbformat_minor": 0
}
